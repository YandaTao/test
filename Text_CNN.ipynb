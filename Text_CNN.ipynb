{
  "nbformat": 4,
  "nbformat_minor": 0,
  "metadata": {
    "colab": {
      "name": "Text-CNN.ipynb",
      "provenance": []
    },
    "kernelspec": {
      "name": "python3",
      "display_name": "Python 3"
    },
    "language_info": {
      "name": "python"
    },
    "accelerator": "GPU"
  },
  "cells": [
    {
      "cell_type": "code",
      "metadata": {
        "id": "6KQmEVRc3-q7"
      },
      "source": [
        "import pandas as pd"
      ],
      "execution_count": null,
      "outputs": []
    },
    {
      "cell_type": "code",
      "metadata": {
        "colab": {
          "base_uri": "https://localhost:8080/"
        },
        "id": "Bp5MTlyo4DUU",
        "outputId": "7774240e-e8f3-4314-ef53-9b8fd05219fa"
      },
      "source": [
        "from google.colab import drive\n",
        "drive.mount(\"/content/drive\")\n",
        "# Set the folder path\n",
        "%cd 'drive/My Drive/Deep learning text analytics'"
      ],
      "execution_count": null,
      "outputs": [
        {
          "output_type": "stream",
          "text": [
            "Drive already mounted at /content/drive; to attempt to forcibly remount, call drive.mount(\"/content/drive\", force_remount=True).\n",
            "/content/drive/My Drive/Deep learning text analytics\n"
          ],
          "name": "stdout"
        }
      ]
    },
    {
      "cell_type": "code",
      "metadata": {
        "colab": {
          "base_uri": "https://localhost:8080/",
          "height": 388
        },
        "id": "QFo1X9st4Bww",
        "outputId": "4f438ad1-7dcb-4f3f-ce7f-6272aa1a8ab0"
      },
      "source": [
        "train = pd.read_csv(\"Data/Corona_NLP_train.csv\",encoding='latin1')\n",
        "train"
      ],
      "execution_count": null,
      "outputs": [
        {
          "output_type": "execute_result",
          "data": {
            "text/html": [
              "<div>\n",
              "<style scoped>\n",
              "    .dataframe tbody tr th:only-of-type {\n",
              "        vertical-align: middle;\n",
              "    }\n",
              "\n",
              "    .dataframe tbody tr th {\n",
              "        vertical-align: top;\n",
              "    }\n",
              "\n",
              "    .dataframe thead th {\n",
              "        text-align: right;\n",
              "    }\n",
              "</style>\n",
              "<table border=\"1\" class=\"dataframe\">\n",
              "  <thead>\n",
              "    <tr style=\"text-align: right;\">\n",
              "      <th></th>\n",
              "      <th>UserName</th>\n",
              "      <th>ScreenName</th>\n",
              "      <th>Location</th>\n",
              "      <th>TweetAt</th>\n",
              "      <th>OriginalTweet</th>\n",
              "      <th>Sentiment</th>\n",
              "    </tr>\n",
              "  </thead>\n",
              "  <tbody>\n",
              "    <tr>\n",
              "      <th>0</th>\n",
              "      <td>3799</td>\n",
              "      <td>48751</td>\n",
              "      <td>London</td>\n",
              "      <td>16-03-2020</td>\n",
              "      <td>@MeNyrbie @Phil_Gahan @Chrisitv https://t.co/i...</td>\n",
              "      <td>Neutral</td>\n",
              "    </tr>\n",
              "    <tr>\n",
              "      <th>1</th>\n",
              "      <td>3800</td>\n",
              "      <td>48752</td>\n",
              "      <td>UK</td>\n",
              "      <td>16-03-2020</td>\n",
              "      <td>advice Talk to your neighbours family to excha...</td>\n",
              "      <td>Positive</td>\n",
              "    </tr>\n",
              "    <tr>\n",
              "      <th>2</th>\n",
              "      <td>3801</td>\n",
              "      <td>48753</td>\n",
              "      <td>Vagabonds</td>\n",
              "      <td>16-03-2020</td>\n",
              "      <td>Coronavirus Australia: Woolworths to give elde...</td>\n",
              "      <td>Positive</td>\n",
              "    </tr>\n",
              "    <tr>\n",
              "      <th>3</th>\n",
              "      <td>3802</td>\n",
              "      <td>48754</td>\n",
              "      <td>NaN</td>\n",
              "      <td>16-03-2020</td>\n",
              "      <td>My food stock is not the only one which is emp...</td>\n",
              "      <td>Positive</td>\n",
              "    </tr>\n",
              "    <tr>\n",
              "      <th>4</th>\n",
              "      <td>3803</td>\n",
              "      <td>48755</td>\n",
              "      <td>NaN</td>\n",
              "      <td>16-03-2020</td>\n",
              "      <td>Me, ready to go at supermarket during the #COV...</td>\n",
              "      <td>Extremely Negative</td>\n",
              "    </tr>\n",
              "    <tr>\n",
              "      <th>...</th>\n",
              "      <td>...</td>\n",
              "      <td>...</td>\n",
              "      <td>...</td>\n",
              "      <td>...</td>\n",
              "      <td>...</td>\n",
              "      <td>...</td>\n",
              "    </tr>\n",
              "    <tr>\n",
              "      <th>41152</th>\n",
              "      <td>44951</td>\n",
              "      <td>89903</td>\n",
              "      <td>Wellington City, New Zealand</td>\n",
              "      <td>14-04-2020</td>\n",
              "      <td>Airline pilots offering to stock supermarket s...</td>\n",
              "      <td>Neutral</td>\n",
              "    </tr>\n",
              "    <tr>\n",
              "      <th>41153</th>\n",
              "      <td>44952</td>\n",
              "      <td>89904</td>\n",
              "      <td>NaN</td>\n",
              "      <td>14-04-2020</td>\n",
              "      <td>Response to complaint not provided citing COVI...</td>\n",
              "      <td>Extremely Negative</td>\n",
              "    </tr>\n",
              "    <tr>\n",
              "      <th>41154</th>\n",
              "      <td>44953</td>\n",
              "      <td>89905</td>\n",
              "      <td>NaN</td>\n",
              "      <td>14-04-2020</td>\n",
              "      <td>You know itÂs getting tough when @KameronWild...</td>\n",
              "      <td>Positive</td>\n",
              "    </tr>\n",
              "    <tr>\n",
              "      <th>41155</th>\n",
              "      <td>44954</td>\n",
              "      <td>89906</td>\n",
              "      <td>NaN</td>\n",
              "      <td>14-04-2020</td>\n",
              "      <td>Is it wrong that the smell of hand sanitizer i...</td>\n",
              "      <td>Neutral</td>\n",
              "    </tr>\n",
              "    <tr>\n",
              "      <th>41156</th>\n",
              "      <td>44955</td>\n",
              "      <td>89907</td>\n",
              "      <td>i love you so much || he/him</td>\n",
              "      <td>14-04-2020</td>\n",
              "      <td>@TartiiCat Well new/used Rift S are going for ...</td>\n",
              "      <td>Negative</td>\n",
              "    </tr>\n",
              "  </tbody>\n",
              "</table>\n",
              "<p>41157 rows × 6 columns</p>\n",
              "</div>"
            ],
            "text/plain": [
              "       UserName  ...           Sentiment\n",
              "0          3799  ...             Neutral\n",
              "1          3800  ...            Positive\n",
              "2          3801  ...            Positive\n",
              "3          3802  ...            Positive\n",
              "4          3803  ...  Extremely Negative\n",
              "...         ...  ...                 ...\n",
              "41152     44951  ...             Neutral\n",
              "41153     44952  ...  Extremely Negative\n",
              "41154     44953  ...            Positive\n",
              "41155     44954  ...             Neutral\n",
              "41156     44955  ...            Negative\n",
              "\n",
              "[41157 rows x 6 columns]"
            ]
          },
          "metadata": {
            "tags": []
          },
          "execution_count": 3
        }
      ]
    },
    {
      "cell_type": "code",
      "metadata": {
        "colab": {
          "base_uri": "https://localhost:8080/",
          "height": 388
        },
        "id": "dbjp_Yf54x1X",
        "outputId": "d3f7624b-a500-423f-da17-a862fff8fabe"
      },
      "source": [
        "test = pd.read_csv(\"Data/Corona_NLP_test.csv\",encoding='latin1')\n",
        "test"
      ],
      "execution_count": null,
      "outputs": [
        {
          "output_type": "execute_result",
          "data": {
            "text/html": [
              "<div>\n",
              "<style scoped>\n",
              "    .dataframe tbody tr th:only-of-type {\n",
              "        vertical-align: middle;\n",
              "    }\n",
              "\n",
              "    .dataframe tbody tr th {\n",
              "        vertical-align: top;\n",
              "    }\n",
              "\n",
              "    .dataframe thead th {\n",
              "        text-align: right;\n",
              "    }\n",
              "</style>\n",
              "<table border=\"1\" class=\"dataframe\">\n",
              "  <thead>\n",
              "    <tr style=\"text-align: right;\">\n",
              "      <th></th>\n",
              "      <th>UserName</th>\n",
              "      <th>ScreenName</th>\n",
              "      <th>Location</th>\n",
              "      <th>TweetAt</th>\n",
              "      <th>OriginalTweet</th>\n",
              "      <th>Sentiment</th>\n",
              "    </tr>\n",
              "  </thead>\n",
              "  <tbody>\n",
              "    <tr>\n",
              "      <th>0</th>\n",
              "      <td>1</td>\n",
              "      <td>44953</td>\n",
              "      <td>NYC</td>\n",
              "      <td>02-03-2020</td>\n",
              "      <td>TRENDING: New Yorkers encounter empty supermar...</td>\n",
              "      <td>Extremely Negative</td>\n",
              "    </tr>\n",
              "    <tr>\n",
              "      <th>1</th>\n",
              "      <td>2</td>\n",
              "      <td>44954</td>\n",
              "      <td>Seattle, WA</td>\n",
              "      <td>02-03-2020</td>\n",
              "      <td>When I couldn't find hand sanitizer at Fred Me...</td>\n",
              "      <td>Positive</td>\n",
              "    </tr>\n",
              "    <tr>\n",
              "      <th>2</th>\n",
              "      <td>3</td>\n",
              "      <td>44955</td>\n",
              "      <td>NaN</td>\n",
              "      <td>02-03-2020</td>\n",
              "      <td>Find out how you can protect yourself and love...</td>\n",
              "      <td>Extremely Positive</td>\n",
              "    </tr>\n",
              "    <tr>\n",
              "      <th>3</th>\n",
              "      <td>4</td>\n",
              "      <td>44956</td>\n",
              "      <td>Chicagoland</td>\n",
              "      <td>02-03-2020</td>\n",
              "      <td>#Panic buying hits #NewYork City as anxious sh...</td>\n",
              "      <td>Negative</td>\n",
              "    </tr>\n",
              "    <tr>\n",
              "      <th>4</th>\n",
              "      <td>5</td>\n",
              "      <td>44957</td>\n",
              "      <td>Melbourne, Victoria</td>\n",
              "      <td>03-03-2020</td>\n",
              "      <td>#toiletpaper #dunnypaper #coronavirus #coronav...</td>\n",
              "      <td>Neutral</td>\n",
              "    </tr>\n",
              "    <tr>\n",
              "      <th>...</th>\n",
              "      <td>...</td>\n",
              "      <td>...</td>\n",
              "      <td>...</td>\n",
              "      <td>...</td>\n",
              "      <td>...</td>\n",
              "      <td>...</td>\n",
              "    </tr>\n",
              "    <tr>\n",
              "      <th>3793</th>\n",
              "      <td>3794</td>\n",
              "      <td>48746</td>\n",
              "      <td>Israel ??</td>\n",
              "      <td>16-03-2020</td>\n",
              "      <td>Meanwhile In A Supermarket in Israel -- People...</td>\n",
              "      <td>Positive</td>\n",
              "    </tr>\n",
              "    <tr>\n",
              "      <th>3794</th>\n",
              "      <td>3795</td>\n",
              "      <td>48747</td>\n",
              "      <td>Farmington, NM</td>\n",
              "      <td>16-03-2020</td>\n",
              "      <td>Did you panic buy a lot of non-perishable item...</td>\n",
              "      <td>Negative</td>\n",
              "    </tr>\n",
              "    <tr>\n",
              "      <th>3795</th>\n",
              "      <td>3796</td>\n",
              "      <td>48748</td>\n",
              "      <td>Haverford, PA</td>\n",
              "      <td>16-03-2020</td>\n",
              "      <td>Asst Prof of Economics @cconces was on @NBCPhi...</td>\n",
              "      <td>Neutral</td>\n",
              "    </tr>\n",
              "    <tr>\n",
              "      <th>3796</th>\n",
              "      <td>3797</td>\n",
              "      <td>48749</td>\n",
              "      <td>NaN</td>\n",
              "      <td>16-03-2020</td>\n",
              "      <td>Gov need to do somethings instead of biar je r...</td>\n",
              "      <td>Extremely Negative</td>\n",
              "    </tr>\n",
              "    <tr>\n",
              "      <th>3797</th>\n",
              "      <td>3798</td>\n",
              "      <td>48750</td>\n",
              "      <td>Arlington, Virginia</td>\n",
              "      <td>16-03-2020</td>\n",
              "      <td>I and @ForestandPaper members are committed to...</td>\n",
              "      <td>Extremely Positive</td>\n",
              "    </tr>\n",
              "  </tbody>\n",
              "</table>\n",
              "<p>3798 rows × 6 columns</p>\n",
              "</div>"
            ],
            "text/plain": [
              "      UserName  ...           Sentiment\n",
              "0            1  ...  Extremely Negative\n",
              "1            2  ...            Positive\n",
              "2            3  ...  Extremely Positive\n",
              "3            4  ...            Negative\n",
              "4            5  ...             Neutral\n",
              "...        ...  ...                 ...\n",
              "3793      3794  ...            Positive\n",
              "3794      3795  ...            Negative\n",
              "3795      3796  ...             Neutral\n",
              "3796      3797  ...  Extremely Negative\n",
              "3797      3798  ...  Extremely Positive\n",
              "\n",
              "[3798 rows x 6 columns]"
            ]
          },
          "metadata": {
            "tags": []
          },
          "execution_count": 4
        }
      ]
    },
    {
      "cell_type": "code",
      "metadata": {
        "colab": {
          "base_uri": "https://localhost:8080/",
          "height": 421
        },
        "id": "hnv98cWdHqRi",
        "outputId": "fe3d2df1-694f-4d28-e755-148759504010"
      },
      "source": [
        "import numpy as np\n",
        "import re\n",
        "from gensim.parsing.preprocessing import remove_stopwords, strip_non_alphanum, strip_punctuation, strip_multiple_whitespaces\n",
        "from nltk.stem import WordNetLemmatizer, PorterStemmer\n",
        "import pickle\n",
        "import ast\n",
        "import matplotlib.pyplot as plt\n",
        "import itertools\n",
        "from gensim.utils import simple_preprocess\n",
        "import nltk\n",
        "nltk.download('wordnet')\n",
        "\n",
        "# Auxiliary function used to stemming and lemmatization each token\n",
        "def lem_stem_w(w):\n",
        "    return PorterStemmer().stem(WordNetLemmatizer().lemmatize(w, pos='n'))\n",
        "def lem_stem_s(x):\n",
        "    result = \"\"\n",
        "    # lowercase and tokenizes text\n",
        "    for token in simple_preprocess(x):\n",
        "        # for each token, using lem_stem_w function to lem and stem\n",
        "        result += lem_stem_w(token) +\" \"\n",
        "    return result\n",
        "\n",
        "def norm_text(x):\n",
        "    x = re.sub('[0-9]', '', str(x)) # Remove the link like text\n",
        "    x = re.sub(r\"http\\S+\", \"\", x)\n",
        "    x = remove_stopwords(x) # Remove stopwords\n",
        "    x = strip_non_alphanum(x) # Remove not an ASCII letter or digits\n",
        "    x = strip_punctuation(x) # Remove punctutations\n",
        "    x = strip_multiple_whitespaces(x) # Remove repeating whitespace characters\n",
        "    return x\n",
        "\n",
        "# clean and convert to dictionary\n",
        "def transform(df):\n",
        "    df['Tweet'] = None # Create new column\n",
        "    df['Tweet'] = df['OriginalTweet'].apply(lambda x: norm_text(x)) # Normalize text from column \"norm_contraction\"\n",
        "    df['Tweet'] = df['Tweet'].apply(lambda x: lem_stem_s(x)) # Stemming and lemmatization text\n",
        "    return df\n",
        "\n",
        "train_clean = transform(train)\n",
        "train_clean = train_clean[[\"Tweet\",\"Sentiment\"]]\n",
        "\n",
        "test_clean = transform(test)\n",
        "test_clean = test_clean[[\"Tweet\",\"Sentiment\"]]\n",
        "\n",
        "train_clean"
      ],
      "execution_count": null,
      "outputs": [
        {
          "output_type": "stream",
          "text": [
            "[nltk_data] Downloading package wordnet to /root/nltk_data...\n",
            "[nltk_data]   Package wordnet is already up-to-date!\n"
          ],
          "name": "stdout"
        },
        {
          "output_type": "execute_result",
          "data": {
            "text/html": [
              "<div>\n",
              "<style scoped>\n",
              "    .dataframe tbody tr th:only-of-type {\n",
              "        vertical-align: middle;\n",
              "    }\n",
              "\n",
              "    .dataframe tbody tr th {\n",
              "        vertical-align: top;\n",
              "    }\n",
              "\n",
              "    .dataframe thead th {\n",
              "        text-align: right;\n",
              "    }\n",
              "</style>\n",
              "<table border=\"1\" class=\"dataframe\">\n",
              "  <thead>\n",
              "    <tr style=\"text-align: right;\">\n",
              "      <th></th>\n",
              "      <th>Tweet</th>\n",
              "      <th>Sentiment</th>\n",
              "    </tr>\n",
              "  </thead>\n",
              "  <tbody>\n",
              "    <tr>\n",
              "      <th>0</th>\n",
              "      <td>menyrbi phil gahan chrisitv</td>\n",
              "      <td>Neutral</td>\n",
              "    </tr>\n",
              "    <tr>\n",
              "      <th>1</th>\n",
              "      <td>advic talk neighbour famili exchang phone numb...</td>\n",
              "      <td>Positive</td>\n",
              "    </tr>\n",
              "    <tr>\n",
              "      <th>2</th>\n",
              "      <td>coronaviru australia woolworth elderli disabl ...</td>\n",
              "      <td>Positive</td>\n",
              "    </tr>\n",
              "    <tr>\n",
              "      <th>3</th>\n",
              "      <td>my food stock empti pleas don panic there will...</td>\n",
              "      <td>Positive</td>\n",
              "    </tr>\n",
              "    <tr>\n",
              "      <th>4</th>\n",
              "      <td>me readi supermarket covid outbreak not parano...</td>\n",
              "      <td>Extremely Negative</td>\n",
              "    </tr>\n",
              "    <tr>\n",
              "      <th>...</th>\n",
              "      <td>...</td>\n",
              "      <td>...</td>\n",
              "    </tr>\n",
              "    <tr>\n",
              "      <th>41152</th>\n",
              "      <td>airlin pilot offer stock supermarket shelf nz ...</td>\n",
              "      <td>Neutral</td>\n",
              "    </tr>\n",
              "    <tr>\n",
              "      <th>41153</th>\n",
              "      <td>respons complaint provid cite covid relat dela...</td>\n",
              "      <td>Extremely Negative</td>\n",
              "    </tr>\n",
              "    <tr>\n",
              "      <th>41154</th>\n",
              "      <td>you know itâ get tough kameronwild ration toil...</td>\n",
              "      <td>Positive</td>\n",
              "    </tr>\n",
              "    <tr>\n",
              "      <th>41155</th>\n",
              "      <td>is wrong smell hand sanit start turn on corona...</td>\n",
              "      <td>Neutral</td>\n",
              "    </tr>\n",
              "    <tr>\n",
              "      <th>41156</th>\n",
              "      <td>tartiicat well new use rift go amazon rn norma...</td>\n",
              "      <td>Negative</td>\n",
              "    </tr>\n",
              "  </tbody>\n",
              "</table>\n",
              "<p>41157 rows × 2 columns</p>\n",
              "</div>"
            ],
            "text/plain": [
              "                                                   Tweet           Sentiment\n",
              "0                           menyrbi phil gahan chrisitv              Neutral\n",
              "1      advic talk neighbour famili exchang phone numb...            Positive\n",
              "2      coronaviru australia woolworth elderli disabl ...            Positive\n",
              "3      my food stock empti pleas don panic there will...            Positive\n",
              "4      me readi supermarket covid outbreak not parano...  Extremely Negative\n",
              "...                                                  ...                 ...\n",
              "41152  airlin pilot offer stock supermarket shelf nz ...             Neutral\n",
              "41153  respons complaint provid cite covid relat dela...  Extremely Negative\n",
              "41154  you know itâ get tough kameronwild ration toil...            Positive\n",
              "41155  is wrong smell hand sanit start turn on corona...             Neutral\n",
              "41156  tartiicat well new use rift go amazon rn norma...            Negative\n",
              "\n",
              "[41157 rows x 2 columns]"
            ]
          },
          "metadata": {
            "tags": []
          },
          "execution_count": 5
        }
      ]
    },
    {
      "cell_type": "code",
      "metadata": {
        "colab": {
          "base_uri": "https://localhost:8080/"
        },
        "id": "m6tWKqQ4LWvH",
        "outputId": "d28556f9-68a4-4020-f24d-74a1de76403a"
      },
      "source": [
        "import pandas as pd\n",
        "sentiment_train_integer = pd.Series(train_clean[\"Sentiment\"]).astype('category').cat.codes.values\n",
        "sentiment_test_integer = pd.Series(test_clean[\"Sentiment\"]).astype('category').cat.codes.values\n",
        "print(\"Number of classes\",len(list(set(sentiment_train_integer))))\n",
        "print(\"Number of classes\",len(list(set(sentiment_test_integer))))"
      ],
      "execution_count": null,
      "outputs": [
        {
          "output_type": "stream",
          "text": [
            "Number of classes 5\n",
            "Number of classes 5\n"
          ],
          "name": "stdout"
        }
      ]
    },
    {
      "cell_type": "code",
      "metadata": {
        "colab": {
          "base_uri": "https://localhost:8080/"
        },
        "id": "f4N-aMnm49zw",
        "outputId": "b3b2fcb5-dfcb-4df3-c22c-38c1d7ee5b66"
      },
      "source": [
        "sentiment_dic = {}\n",
        "for x in range(len(sentiment_train_integer)):\n",
        "  if sentiment_train_integer[x] not in sentiment_dic:\n",
        "    sentiment_dic[sentiment_train_integer[x]] = train_clean[\"Sentiment\"][x]\n",
        "sentiment_dic"
      ],
      "execution_count": null,
      "outputs": [
        {
          "output_type": "execute_result",
          "data": {
            "text/plain": [
              "{0: 'Extremely Negative',\n",
              " 1: 'Extremely Positive',\n",
              " 2: 'Negative',\n",
              " 3: 'Neutral',\n",
              " 4: 'Positive'}"
            ]
          },
          "metadata": {
            "tags": []
          },
          "execution_count": 7
        }
      ]
    },
    {
      "cell_type": "code",
      "metadata": {
        "colab": {
          "base_uri": "https://localhost:8080/"
        },
        "id": "eBp2bOtQrHWo",
        "outputId": "94bb2437-89db-4ea7-f2a8-0633ae375552"
      },
      "source": [
        "# 2. Use the keras tokenizer at the character level to tokenize our input into integer sequences.\n",
        "%tensorflow_version 1.x\n",
        "from tensorflow import keras\n",
        "list_train = [each_string.lower() for each_string in train_clean[\"Tweet\"]]\n",
        "list_test = [each_string.lower() for each_string in test_clean[\"Tweet\"]]\n",
        "tokenizer = keras.preprocessing.text.Tokenizer()\n",
        "tokenizer.fit_on_texts(list_train+list_test)\n",
        "vocab=tokenizer.word_index\n",
        "train_text = tokenizer.texts_to_sequences(train_clean[\"Tweet\"])\n",
        "test_text = tokenizer.texts_to_sequences(test_clean[\"Tweet\"])\n",
        "print(len(vocab))"
      ],
      "execution_count": null,
      "outputs": [
        {
          "output_type": "stream",
          "text": [
            "TensorFlow 1.x selected.\n",
            "43160\n"
          ],
          "name": "stdout"
        }
      ]
    },
    {
      "cell_type": "code",
      "metadata": {
        "id": "47DNr10AtTSS"
      },
      "source": [
        "# 3. Pad your sequences using the keras preprocessing tools.\n",
        "import tensorflow as tf\n",
        "train_array = tf.keras.preprocessing.sequence.pad_sequences(train_text,maxlen=50)\n",
        "test_array  = tf.keras.preprocessing.sequence.pad_sequences(test_text,maxlen=50)"
      ],
      "execution_count": null,
      "outputs": []
    },
    {
      "cell_type": "code",
      "metadata": {
        "colab": {
          "base_uri": "https://localhost:8080/"
        },
        "id": "Zt619SD7tt30",
        "outputId": "b9ee165f-cdfc-4e6f-a681-f2ffb28615b9"
      },
      "source": [
        "train_array "
      ],
      "execution_count": null,
      "outputs": [
        {
          "output_type": "execute_result",
          "data": {
            "text/plain": [
              "array([[    0,     0,     0, ...,  5078, 17182,  9578],\n",
              "       [    0,     0,     0, ...,   879,  1747,    84],\n",
              "       [    0,     0,     0, ...,   116,     1,    79],\n",
              "       ...,\n",
              "       [    0,     0,     0, ..., 41254,    27,   209],\n",
              "       [    0,     0,     0, ...,     2,     1,     2],\n",
              "       [    0,     0,     0, ...,     1,   176, 41257]], dtype=int32)"
            ]
          },
          "metadata": {
            "tags": []
          },
          "execution_count": 10
        }
      ]
    },
    {
      "cell_type": "markdown",
      "metadata": {
        "id": "Qj2cGzyYufhs"
      },
      "source": [
        "## 1. CNN (LeNet-5)"
      ]
    },
    {
      "cell_type": "code",
      "metadata": {
        "colab": {
          "base_uri": "https://localhost:8080/"
        },
        "id": "vgXeBPktuosX",
        "outputId": "46c10988-5e70-43cd-ee77-de49316e65e1"
      },
      "source": [
        "%tensorflow_version 1.x\n",
        "from keras.layers import concatenate\n",
        "from tensorflow.python.framework.ops import disable_eager_execution\n",
        "from keras.layers import Embedding\n",
        "from keras.layers import Dense, Dropout, Activation, Lambda, Input, merge, Flatten\n",
        "from keras.layers import Embedding\n",
        "from keras import Model\n",
        "from keras.models import Sequential\n",
        "from keras.layers import Conv1D, MaxPooling1D\n",
        "from keras.layers import BatchNormalization\n",
        "import sklearn.metrics as metrics\n",
        "from keras.utils.np_utils import to_categorical\n",
        "disable_eager_execution()"
      ],
      "execution_count": null,
      "outputs": [
        {
          "output_type": "stream",
          "text": [
            "Using TensorFlow backend.\n"
          ],
          "name": "stderr"
        }
      ]
    },
    {
      "cell_type": "code",
      "metadata": {
        "colab": {
          "base_uri": "https://localhost:8080/"
        },
        "id": "z7ou0VBzJI4a",
        "outputId": "9637577f-a20a-4b07-80cf-2f75e61f3266"
      },
      "source": [
        "model = Sequential()\n",
        "model.add(Embedding(len(vocab) + 1, 300, input_length=50)) #使用Embeeding层将每个词编码转换为词向量\n",
        "model.add(Conv1D(256, 5, padding='same'))\n",
        "model.add(MaxPooling1D(3, 3, padding='same'))\n",
        "model.add(Conv1D(128, 5, padding='same'))\n",
        "model.add(MaxPooling1D(3, 3, padding='same'))\n",
        "model.add(Conv1D(64, 3, padding='same'))\n",
        "model.add(Flatten())\n",
        "model.add(Dropout(0.1))\n",
        "model.add(BatchNormalization())  # (批)规范化层\n",
        "model.add(Dense(256, activation='relu'))\n",
        "model.add(Dropout(0.1))\n",
        "model.add(Dense(5, activation='softmax'))\n",
        "model.compile(loss='categorical_crossentropy',optimizer='adam',metrics=['accuracy'])\n",
        "\n",
        "one_hot_labels = to_categorical(sentiment_train_integer, num_classes=5)  # 将标签转换为one-hot编码\n",
        "model.fit(train_array, one_hot_labels,epochs=10, batch_size=800)"
      ],
      "execution_count": null,
      "outputs": [
        {
          "output_type": "stream",
          "text": [
            "Epoch 1/10\n",
            "41157/41157 [==============================] - 3s 76us/step - loss: 1.3691 - accuracy: 0.4051\n",
            "Epoch 2/10\n",
            "41157/41157 [==============================] - 3s 63us/step - loss: 0.6571 - accuracy: 0.7563\n",
            "Epoch 3/10\n",
            "41157/41157 [==============================] - 3s 63us/step - loss: 0.2144 - accuracy: 0.9329\n",
            "Epoch 4/10\n",
            "41157/41157 [==============================] - 3s 64us/step - loss: 0.0594 - accuracy: 0.9859\n",
            "Epoch 5/10\n",
            "41157/41157 [==============================] - 3s 64us/step - loss: 0.0245 - accuracy: 0.9958\n",
            "Epoch 6/10\n",
            "41157/41157 [==============================] - 3s 65us/step - loss: 0.0133 - accuracy: 0.9983\n",
            "Epoch 7/10\n",
            "41157/41157 [==============================] - 3s 64us/step - loss: 0.0117 - accuracy: 0.9989\n",
            "Epoch 8/10\n",
            "41157/41157 [==============================] - 3s 65us/step - loss: 0.0050 - accuracy: 0.9993\n",
            "Epoch 9/10\n",
            "41157/41157 [==============================] - 3s 65us/step - loss: 0.0071 - accuracy: 0.9994\n",
            "Epoch 10/10\n",
            "41157/41157 [==============================] - 3s 65us/step - loss: 0.0038 - accuracy: 0.9996\n"
          ],
          "name": "stdout"
        },
        {
          "output_type": "execute_result",
          "data": {
            "text/plain": [
              "<keras.callbacks.callbacks.History at 0x7f0b2abd01d0>"
            ]
          },
          "metadata": {
            "tags": []
          },
          "execution_count": 39
        }
      ]
    },
    {
      "cell_type": "code",
      "metadata": {
        "colab": {
          "base_uri": "https://localhost:8080/"
        },
        "id": "YWVXLVF327I4",
        "outputId": "d2ad26ca-eead-4aef-c3fa-3912090a7165"
      },
      "source": [
        "y_predict = model.predict_classes(test_array)  # 预测的是类别，结果就是类别号\n",
        "y_predict"
      ],
      "execution_count": null,
      "outputs": [
        {
          "output_type": "execute_result",
          "data": {
            "text/plain": [
              "array([0, 1, 1, ..., 3, 0, 1])"
            ]
          },
          "metadata": {
            "tags": []
          },
          "execution_count": 40
        }
      ]
    },
    {
      "cell_type": "code",
      "metadata": {
        "colab": {
          "base_uri": "https://localhost:8080/"
        },
        "id": "9Ahx7ThQ92np",
        "outputId": "acf3e5c9-a06c-480f-a867-e737c77b8683"
      },
      "source": [
        "print('Accuracy', metrics.accuracy_score(sentiment_test_integer, y_predict))\n",
        "print('F1-score:', metrics.f1_score(sentiment_test_integer, y_predict, average='weighted'))"
      ],
      "execution_count": null,
      "outputs": [
        {
          "output_type": "stream",
          "text": [
            "Accuracy 0.5866245392311743\n",
            "F1-score: 0.5860521408571533\n"
          ],
          "name": "stdout"
        }
      ]
    },
    {
      "cell_type": "markdown",
      "metadata": {
        "id": "O229tuAB_mhE"
      },
      "source": [
        "## 2. TextCNN"
      ]
    },
    {
      "cell_type": "code",
      "metadata": {
        "colab": {
          "base_uri": "https://localhost:8080/"
        },
        "id": "BMXAw34c4FuE",
        "outputId": "4450a771-abc6-44c0-f745-80b15197160f"
      },
      "source": [
        "main_input = Input(shape=(50,), dtype='float64')\n",
        "embedder = Embedding(len(vocab) + 1, 300, input_length=50, trainable=False)\n",
        "embed = embedder(main_input)\n",
        "cnn1 = Conv1D(256, 3, padding='same', strides=1, activation='relu')(embed)\n",
        "cnn1 = MaxPooling1D(pool_size=38)(cnn1)\n",
        "cnn2 = Conv1D(256, 4, padding='same', strides=1, activation='relu')(embed)\n",
        "cnn2 = MaxPooling1D(pool_size=37)(cnn2)\n",
        "cnn3 = Conv1D(256, 5, padding='same', strides=1, activation='relu')(embed)\n",
        "cnn3 = MaxPooling1D(pool_size=36)(cnn3)\n",
        "cnn = concatenate([cnn1, cnn2, cnn3], axis=-1)\n",
        "flat = Flatten()(cnn)\n",
        "drop = Dropout(0.1)(flat)\n",
        "dense = Dense(64, activation='relu')(drop)\n",
        "dense2 = Dense(32, activation='relu')(dense)\n",
        "batch = BatchNormalization()(dense2)\n",
        "main_output = Dense(5, activation='softmax')(batch)\n",
        "model = Model(inputs=main_input, outputs=main_output)\n",
        "model.compile(loss='categorical_crossentropy', optimizer='adam', metrics=['accuracy'])\n",
        "\n",
        "model.fit(train_array, one_hot_labels,epochs=10, batch_size=800)"
      ],
      "execution_count": null,
      "outputs": [
        {
          "output_type": "stream",
          "text": [
            "Epoch 1/10\n",
            "41157/41157 [==============================] - 5s 121us/step - loss: 1.5425 - accuracy: 0.2959\n",
            "Epoch 2/10\n",
            "41157/41157 [==============================] - 4s 107us/step - loss: 1.3820 - accuracy: 0.4139\n",
            "Epoch 3/10\n",
            "41157/41157 [==============================] - 4s 108us/step - loss: 1.1933 - accuracy: 0.5265\n",
            "Epoch 4/10\n",
            "41157/41157 [==============================] - 4s 108us/step - loss: 0.9251 - accuracy: 0.6582\n",
            "Epoch 5/10\n",
            "41157/41157 [==============================] - 4s 108us/step - loss: 0.7026 - accuracy: 0.7350\n",
            "Epoch 6/10\n",
            "41157/41157 [==============================] - 4s 108us/step - loss: 0.5799 - accuracy: 0.7769\n",
            "Epoch 7/10\n",
            "41157/41157 [==============================] - 4s 108us/step - loss: 0.5114 - accuracy: 0.8006\n",
            "Epoch 8/10\n",
            "41157/41157 [==============================] - 4s 107us/step - loss: 0.4714 - accuracy: 0.8116\n",
            "Epoch 9/10\n",
            "41157/41157 [==============================] - 4s 106us/step - loss: 0.4479 - accuracy: 0.8222\n",
            "Epoch 10/10\n",
            "41157/41157 [==============================] - 4s 106us/step - loss: 0.4381 - accuracy: 0.8214\n"
          ],
          "name": "stdout"
        },
        {
          "output_type": "execute_result",
          "data": {
            "text/plain": [
              "<keras.callbacks.callbacks.History at 0x7f0b2afa4250>"
            ]
          },
          "metadata": {
            "tags": []
          },
          "execution_count": 38
        }
      ]
    },
    {
      "cell_type": "code",
      "metadata": {
        "id": "hkClBTsc4VEw"
      },
      "source": [
        "y_predict = model.predict(test_array) \n",
        "y_predict = np.argmax(y_predict,axis=1)"
      ],
      "execution_count": null,
      "outputs": []
    },
    {
      "cell_type": "code",
      "metadata": {
        "colab": {
          "base_uri": "https://localhost:8080/"
        },
        "id": "NGi2-DRPGsfi",
        "outputId": "81a41268-6c32-40d7-889c-a5d245accdf5"
      },
      "source": [
        "print('Accuracy', metrics.accuracy_score(sentiment_test_integer, y_predict))\n",
        "print('F1-score:', metrics.f1_score(sentiment_test_integer, y_predict, average='weighted'))"
      ],
      "execution_count": null,
      "outputs": [
        {
          "output_type": "stream",
          "text": [
            "Accuracy 0.26671932596103215\n",
            "F1-score: 0.1560860766118533\n"
          ],
          "name": "stdout"
        }
      ]
    },
    {
      "cell_type": "code",
      "metadata": {
        "colab": {
          "base_uri": "https://localhost:8080/",
          "height": 1000
        },
        "id": "wZnNVxOWIyer",
        "outputId": "26a2583c-c6c9-485e-9b53-8a131acee763"
      },
      "source": [
        "from keras.utils import plot_model\n",
        "plot_model(model,to_file='model.png',show_shapes=True,show_layer_names=False)"
      ],
      "execution_count": null,
      "outputs": [
        {
          "output_type": "execute_result",
          "data": {
            "image/png": "[encoded data removed]",
            "text/plain": [
              "<IPython.core.display.Image object>"
            ]
          },
          "metadata": {
            "tags": []
          },
          "execution_count": 26
        }
      ]
    }
  ]
}